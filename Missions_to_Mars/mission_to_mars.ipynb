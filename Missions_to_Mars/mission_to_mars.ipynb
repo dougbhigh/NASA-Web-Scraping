{
 "cells": [
  {
   "cell_type": "raw",
   "metadata": {},
   "source": [
    "######################################################################################\n",
    "#  RUT-SOM-DATA-PT-06-2020-U-C                                          Douglas High #\n",
    "#   Web Scrapinf Challenge                                           August 31, 2020 #\n",
    "#      >mission_to_mars                                                              #\n",
    "#   - use chromedriver, splinter, beautiful soup, and pandas to scrape data from     #\n",
    "#     various Nasa websites.                                                         #\n",
    "#   - a wait time of 3 seconds is used for each url call to ensure full data         #\n",
    "#      during slow internet.  variable 'w' can be changed as needed.                 #\n",
    "######################################################################################"
   ]
  },
  {
   "cell_type": "code",
   "execution_count": 1,
   "metadata": {},
   "outputs": [],
   "source": [
    "################################################\n",
    "#00    I/O                                     #\n",
    "#   a- import libraries.                       #\n",
    "#   b- s/u chrome driver & splinter browser.   #\n",
    "#   c- documentation of later I/O urls.        #\n",
    "################################################\n",
    "\n",
    "#a\n",
    "from splinter import Browser\n",
    "from bs4 import BeautifulSoup as bs\n",
    "import pandas as pd\n",
    "import time\n",
    "w = 3   # wait time in seconds, variable for time.sleep()\n",
    "import warnings; warnings.simplefilter('ignore')\n",
    "\n",
    "#b\n",
    "executable_path = {'executable_path': 'c:/chromedriver.exe'}\n",
    "browser = Browser('chrome', **executable_path)\n",
    "\n",
    "#C\n",
    "# 01- Latest News : url01 = \"https://mars.nasa.gov/news/\"\n",
    "# 02- Featured Image : url02 = \"https://www.jpl.nasa.gov/spaceimages/?search=&category=Mars\"\n",
    "# 03- Mars Facts : url03 = \"https://space-facts.com/mars/\"\n",
    "# 04- Hemispheres : url04 = \"https://astrogeology.usgs.gov/search/results?q=hemisphere+enhanced&k1=target&v1=Mars\""
   ]
  },
  {
   "cell_type": "code",
   "execution_count": 2,
   "metadata": {},
   "outputs": [
    {
     "name": "stdout",
     "output_type": "stream",
     "text": [
      "Latest News Title --->  NASA Engineers Checking InSight's Weather Sensors  (August 24, 2020)\n",
      "Article Summary   --->  An electronics issue is suspected to be preventing the sensors from sharing their data about Mars weather with the spacecraft.\n"
     ]
    }
   ],
   "source": [
    "################################################################################\n",
    "#01      Latest News                                                           #\n",
    "#   a- visit url, dump html, and parse with lxml into soup.                    #\n",
    "#   b- get first occurance of list_text division (most recent news article).   #\n",
    "#       (one per each li which holds each article data.)                       #\n",
    "#   c- extract header, date, and summary text and print.                       #\n",
    "################################################################################\n",
    "\n",
    "#a\n",
    "url01 = \"https://mars.nasa.gov/news/\"\n",
    "browser.visit(url01)\n",
    "time.sleep(w)\n",
    "html01 = browser.html\n",
    "soup01 = bs(html01, \"lxml\")\n",
    "\n",
    "#b\n",
    "result = soup01.find('div', class_=\"list_text\")\n",
    "\n",
    "#c\n",
    "try:\n",
    "    header = result.find('div', class_='content_title')\n",
    "    header_text = header.a.text\n",
    "    summary = result.find('div', class_='article_teaser_body')\n",
    "    summary_text = summary.text\n",
    "    raw_date = result.find(\"div\", class_ = \"list_date\")\n",
    "    date_text = raw_date.text\n",
    "except:\n",
    "    print(\"error extracting one of the fields\")\n",
    "\n",
    "print(f\"Latest News Title --->  {header_text}  ({date_text})\")\n",
    "print(f\"Article Summary   --->  {summary_text}\")"
   ]
  },
  {
   "cell_type": "code",
   "execution_count": 3,
   "metadata": {},
   "outputs": [
    {
     "name": "stdout",
     "output_type": "stream",
     "text": [
      " Featured Image url --->   https://www.jpl.nasa.gov/spaceimages/images/largesize/PIA20318_hires.jpg\n"
     ]
    }
   ],
   "source": [
    "#########################################################################\n",
    "#02    Featured Image                                                   #\n",
    "#   a- visit images url.                                                #\n",
    "#   b- click buttons to get full address of featured image, largesize.  #\n",
    "#   c- dump html and parse with lxml into soup.                         #\n",
    "#   d- extract image url.                                               #\n",
    "#########################################################################\n",
    "\n",
    "#a\n",
    "url02 = \"https://www.jpl.nasa.gov/spaceimages/?search=&category=Mars\"\n",
    "browser.visit(url02)\n",
    "time.sleep(w)\n",
    "\n",
    "#b\n",
    "browser.click_link_by_partial_text(\"FULL IMAGE\")\n",
    "time.sleep(w)\n",
    "browser.click_link_by_partial_text('more info')\n",
    "time.sleep(w)\n",
    "\n",
    "#c\n",
    "html02 = browser.html\n",
    "soup02 = bs(html02, \"lxml\")\n",
    "\n",
    "#d\n",
    "try:\n",
    "    image_raw = soup02.find('figure', class_='lede')\n",
    "    image_url = image_raw.a['href']\n",
    "    featured_image_url = \"https://www.jpl.nasa.gov\" + image_url\n",
    "except:\n",
    "    print(\"unable to find image\")\n",
    "\n",
    "print(f\" Featured Image url --->   {featured_image_url}\")"
   ]
  },
  {
   "cell_type": "code",
   "execution_count": 4,
   "metadata": {},
   "outputs": [
    {
     "data": {
      "text/html": [
       "<div>\n",
       "<style scoped>\n",
       "    .dataframe tbody tr th:only-of-type {\n",
       "        vertical-align: middle;\n",
       "    }\n",
       "\n",
       "    .dataframe tbody tr th {\n",
       "        vertical-align: top;\n",
       "    }\n",
       "\n",
       "    .dataframe thead th {\n",
       "        text-align: right;\n",
       "    }\n",
       "</style>\n",
       "<table border=\"1\" class=\"dataframe\">\n",
       "  <thead>\n",
       "    <tr style=\"text-align: right;\">\n",
       "      <th></th>\n",
       "      <th>inquiry</th>\n",
       "      <th>fact</th>\n",
       "    </tr>\n",
       "  </thead>\n",
       "  <tbody>\n",
       "    <tr>\n",
       "      <th>0</th>\n",
       "      <td>Equatorial Diameter:</td>\n",
       "      <td>6,792 km</td>\n",
       "    </tr>\n",
       "    <tr>\n",
       "      <th>1</th>\n",
       "      <td>Polar Diameter:</td>\n",
       "      <td>6,752 km</td>\n",
       "    </tr>\n",
       "    <tr>\n",
       "      <th>2</th>\n",
       "      <td>Mass:</td>\n",
       "      <td>6.39 × 10^23 kg (0.11 Earths)</td>\n",
       "    </tr>\n",
       "    <tr>\n",
       "      <th>3</th>\n",
       "      <td>Moons:</td>\n",
       "      <td>2 (Phobos &amp; Deimos)</td>\n",
       "    </tr>\n",
       "    <tr>\n",
       "      <th>4</th>\n",
       "      <td>Orbit Distance:</td>\n",
       "      <td>227,943,824 km (1.38 AU)</td>\n",
       "    </tr>\n",
       "    <tr>\n",
       "      <th>5</th>\n",
       "      <td>Orbit Period:</td>\n",
       "      <td>687 days (1.9 years)</td>\n",
       "    </tr>\n",
       "    <tr>\n",
       "      <th>6</th>\n",
       "      <td>Surface Temperature:</td>\n",
       "      <td>-87 to -5 °C</td>\n",
       "    </tr>\n",
       "    <tr>\n",
       "      <th>7</th>\n",
       "      <td>First Record:</td>\n",
       "      <td>2nd millennium BC</td>\n",
       "    </tr>\n",
       "    <tr>\n",
       "      <th>8</th>\n",
       "      <td>Recorded By:</td>\n",
       "      <td>Egyptian astronomers</td>\n",
       "    </tr>\n",
       "  </tbody>\n",
       "</table>\n",
       "</div>"
      ],
      "text/plain": [
       "                inquiry                           fact\n",
       "0  Equatorial Diameter:                       6,792 km\n",
       "1       Polar Diameter:                       6,752 km\n",
       "2                 Mass:  6.39 × 10^23 kg (0.11 Earths)\n",
       "3                Moons:            2 (Phobos & Deimos)\n",
       "4       Orbit Distance:       227,943,824 km (1.38 AU)\n",
       "5         Orbit Period:           687 days (1.9 years)\n",
       "6  Surface Temperature:                   -87 to -5 °C\n",
       "7         First Record:              2nd millennium BC\n",
       "8          Recorded By:           Egyptian astronomers"
      ]
     },
     "execution_count": 4,
     "metadata": {},
     "output_type": "execute_result"
    }
   ],
   "source": [
    "######################################################\n",
    "#03      Mars Facts                                  #\n",
    "#   a- visit url, dump html.                         #\n",
    "#   b- read url tables into list.                    #\n",
    "#   c- take first table and change column headers.   #\n",
    "#   d- create html code to display table.            #\n",
    "######################################################\n",
    "\n",
    "#a\n",
    "url03 = \"https://space-facts.com/mars/\"\n",
    "browser.visit(url03)\n",
    "time.sleep(w)\n",
    "html03 = browser.html\n",
    "\n",
    "#b\n",
    "fact_tables = pd.read_html(html03)\n",
    "\n",
    "#c\n",
    "facts_df = fact_tables[0]\n",
    "facts_df.columns=['inquiry', 'fact']\n",
    "\n",
    "#d\n",
    "facts_html_table = facts_df.to_html(justify=\"center\", index=False)\n",
    "\n",
    "facts_df"
   ]
  },
  {
   "cell_type": "code",
   "execution_count": 5,
   "metadata": {},
   "outputs": [
    {
     "data": {
      "text/plain": [
       "[{'title': 'Cerberus Hemisphere Enhanced',\n",
       "  'img_url': 'https://astropedia.astrogeology.usgs.gov/download/Mars/Viking/cerberus_enhanced.tif/full.jpg'},\n",
       " {'title': 'Schiaparelli Hemisphere Enhanced',\n",
       "  'img_url': 'https://astropedia.astrogeology.usgs.gov/download/Mars/Viking/schiaparelli_enhanced.tif/full.jpg'},\n",
       " {'title': 'Syrtis Major Hemisphere Enhanced',\n",
       "  'img_url': 'https://astropedia.astrogeology.usgs.gov/download/Mars/Viking/syrtis_major_enhanced.tif/full.jpg'},\n",
       " {'title': 'Valles Marineris Hemisphere Enhanced',\n",
       "  'img_url': 'https://astropedia.astrogeology.usgs.gov/download/Mars/Viking/valles_marineris_enhanced.tif/full.jpg'}]"
      ]
     },
     "execution_count": 5,
     "metadata": {},
     "output_type": "execute_result"
    }
   ],
   "source": [
    "################################################################\n",
    "#04     Hemispheres                                            #\n",
    "#   a- visit url, dump html and parse with lxml into soup.     #\n",
    "#   b- get list of the four hesphere's html data.              #\n",
    "#   c- create list of dictionaries for the four hemispheres.   #\n",
    "################################################################\n",
    "\n",
    "#a\n",
    "url04 = \"https://astrogeology.usgs.gov/search/results?q=hemisphere+enhanced&k1=target&v1=Mars\"\n",
    "browser.visit(url04)\n",
    "time.sleep(w)\n",
    "html04 = browser.html\n",
    "soup04 = bs(html04, \"lxml\")\n",
    "\n",
    "#b\n",
    "results04 = soup04.find_all(\"div\", class_ = \"item\")\n",
    "\n",
    "#c\n",
    "image_dicts =[] \n",
    "for result04 in results04:\n",
    "    image_title = result04.find(\"h3\").text                     # title for dict and text for click to hi-res page\n",
    "    browser.click_link_by_partial_text(image_title)            # link to high res image\n",
    "    time.sleep(w)\n",
    "    temp_html = browser.html\n",
    "    temp_soup = bs(temp_html, \"lxml\")\n",
    "    temp_result = temp_soup.find(\"div\", class_=\"downloads\")\n",
    "    jpg_url = temp_result.a[\"href\"]                                   # image url for dict\n",
    "    image_dicts.append({\"title\": image_title, \"img_url\" : jpg_url})\n",
    "    browser.visit(url04)                                              # return to main page for next pass thru loop\n",
    "    time.sleep(w)\n",
    "image_dicts"
   ]
  },
  {
   "cell_type": "code",
   "execution_count": 6,
   "metadata": {},
   "outputs": [],
   "source": [
    "########################\n",
    "#99  Housekeeping      #\n",
    "#   - close browser.   #\n",
    "########################\n",
    "\n",
    "browser.quit()"
   ]
  }
 ],
 "metadata": {
  "kernel_info": {
   "name": "python3"
  },
  "kernelspec": {
   "display_name": "Python 3",
   "language": "python",
   "name": "python3"
  },
  "language_info": {
   "codemirror_mode": {
    "name": "ipython",
    "version": 3
   },
   "file_extension": ".py",
   "mimetype": "text/x-python",
   "name": "python",
   "nbconvert_exporter": "python",
   "pygments_lexer": "ipython3",
   "version": "3.7.6"
  },
  "nteract": {
   "version": "0.12.3"
  }
 },
 "nbformat": 4,
 "nbformat_minor": 2
}
